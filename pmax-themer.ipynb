{
  "nbformat": 4,
  "nbformat_minor": 0,
  "metadata": {
    "colab": {
      "provenance": [],
      "private_outputs": true,
      "cell_execution_strategy": "setup"
    },
    "kernelspec": {
      "name": "python3",
      "display_name": "Python 3"
    },
    "language_info": {
      "name": "python"
    }
  },
  "cells": [
    {
      "cell_type": "markdown",
      "source": [
        "**Copyright 2024 Google LLC.**\n",
        "\n",
        "Licensed under the Apache License, Version 2.0 (the \"License\");"
      ],
      "metadata": {
        "id": "T_Egs78SmoQx"
      }
    },
    {
      "cell_type": "markdown",
      "source": [
        "# Prepare"
      ],
      "metadata": {
        "id": "JoW2Cd8R8w_5"
      }
    },
    {
      "cell_type": "code",
      "source": [
        "%pip install -U -q google-ads-api-report-fetcher\n",
        "%pip install -U -q rich"
      ],
      "metadata": {
        "id": "t43p70ni3s02"
      },
      "execution_count": null,
      "outputs": []
    },
    {
      "cell_type": "code",
      "source": [
        "from google.colab import data_table\n",
        "from gaarf.api_clients import GoogleAdsApiClient\n",
        "from gaarf.query_executor import AdsReportFetcher\n",
        "import rich\n",
        "from gaarf.io.writer import StdoutWriter\n",
        "import os\n",
        "import logging\n",
        "from google.colab import userdata\n",
        "data_table.enable_dataframe_formatter()\n",
        "logger = logging.getLogger()\n",
        "logging.getLogger().setLevel(level=logging.INFO) # set to DEBUG to see more detailed output\n",
        "logging.getLogger('google.ads.googleads.client').setLevel(level=logging.WARNING)\n",
        "#from google.colab import auth\n",
        "#auth.authenticate_user()\n",
        "\n",
        "ads_config = {\n",
        "  \"developer_token\": \"\",\n",
        "  \"client_id\": \"\",\n",
        "  \"client_secret\": \"\",\n",
        "  \"refresh_token\": \"\",\n",
        "  \"login_customer_id\": \"\",\n",
        "  \"customer_id\": \"\",\n",
        "  \"use_proto_plus\": True\n",
        "}\n",
        "ads_config_yaml = \"\"\"\n",
        "\"\"\"\n",
        "#TODO: use Colab userdata:\n",
        "#   from google.colab import userdata\n",
        "#   API_KEY=userdata.get('API_KEY')\n",
        "if len(ads_config_yaml.strip()):\n",
        "  client = GoogleAdsApiClient(yaml_str=ads_config_yaml)\n",
        "elif os.path.isfile('./google-ads.yaml'):\n",
        "  client = GoogleAdsApiClient(path_to_config='google-ads.yaml')\n",
        "elif ads_config.get('developer_token') and ads_config.get('refresh_token') :\n",
        "  client = GoogleAdsApiClient(config_dict=ads_config)\n",
        "else:\n",
        "  raise Exception('Please provide Google Ads credentials, either upload google-ads.yaml or put them into the ads_config_yaml variable as YAML text or in ads_config as JSON')\n",
        "report_fetcher = AdsReportFetcher(client)"
      ],
      "metadata": {
        "id": "_TO4T3Hezr8O"
      },
      "execution_count": null,
      "outputs": []
    },
    {
      "cell_type": "markdown",
      "source": [
        "# Choose Ads account"
      ],
      "metadata": {
        "id": "-29t6FaXgefb"
      }
    },
    {
      "cell_type": "markdown",
      "source": [
        "Please enter a MCC ID or a leave CID in the field below. We'll use it to fetch all campaigns with adgroups and keywords from which I can choose one to use for migrating to search themes in PMAX."
      ],
      "metadata": {
        "id": "uPIeS7Ldw5Wk"
      }
    },
    {
      "cell_type": "code",
      "source": [
        "# @title Expand MCC { run: \"auto\" }\n",
        "MCC_ID = \"6368728866\" # @param {type:\"string\"}\n",
        "customer_ids = report_fetcher.expand_mcc(str(MCC_ID))\n",
        "rich.print(customer_ids)\n",
        "CIDs = \",\".join([str(cid) for cid in customer_ids])\n",
        "print('You can replace the MCC in the form above onto one of the expanded CIDs or leave it as is')"
      ],
      "metadata": {
        "id": "9uZnL2ioh83f"
      },
      "execution_count": null,
      "outputs": []
    },
    {
      "cell_type": "markdown",
      "source": [
        "# Choose target PMAX campaign"
      ],
      "metadata": {
        "id": "1lKqL67we5Jp"
      }
    },
    {
      "cell_type": "code",
      "source": [
        "print(f\"Fetching PMAX campaign for the following accounts: {customer_ids}\")\n",
        "query = \"\"\"\n",
        "SELECT\n",
        "  customer.id,\n",
        "  customer.descriptive_name as customer_name,\n",
        "  campaign.id,\n",
        "  campaign.name,\n",
        "  asset_group.id AS asset_group_id,\n",
        "  asset_group.name AS asset_group_name,\n",
        "  metrics.cost_micros as metrics_cost,\n",
        "  campaign.advertising_channel_type,\n",
        "  campaign.status\n",
        "FROM asset_group\n",
        "WHERE campaign.advertising_channel_type = 'PERFORMANCE_MAX'\n",
        "AND asset_group.status = 'ENABLED'\n",
        "AND campaign.status = 'ENABLED'\n",
        "\"\"\"\n",
        "report = report_fetcher.fetch(query, customer_ids)\n",
        "writer = StdoutWriter(page_size=100)\n",
        "#writer.write(report[['customer_id', 'customer_name', 'campaign_id', 'campaign_name', 'asset_group_id', 'asset_group_name', 'metrics_cost']], 'PMAX AssetGroups')\n",
        "report.to_pandas()"
      ],
      "metadata": {
        "id": "QzvYlEsqfWYr"
      },
      "execution_count": null,
      "outputs": []
    },
    {
      "cell_type": "code",
      "source": [
        "# @title Chosing a PMAX target AssetGroup\n",
        "ASSET_GROUP_ID = \"6466108739\" # @param {type:\"string\"}\n",
        "pmax_customer_id = \"\"\n",
        "pmax_campaign_id = \"\"\n",
        "\n",
        "if not ASSET_GROUP_ID:\n",
        "  raise Exception('Please enter an asset group id.')\n",
        "\n",
        "# find a CID of the selected asset_group\n",
        "for row in report:\n",
        "  if str(row['asset_group_id']) == ASSET_GROUP_ID:\n",
        "    pmax_customer_id = str(row['customer_id'])\n",
        "    pmax_campaign_id = str(row['campaign_id'])\n",
        "print(f'target for migration: CID={pmax_customer_id}, Campaign={pmax_campaign_id}, AssetGroup={ASSET_GROUP_ID}')"
      ],
      "metadata": {
        "id": "0a8VvvAMgpYc",
        "cellView": "form"
      },
      "execution_count": null,
      "outputs": []
    },
    {
      "cell_type": "markdown",
      "source": [
        "# Choose source search campaign/ad group"
      ],
      "metadata": {
        "id": "lO_HIzwRuevi"
      }
    },
    {
      "cell_type": "code",
      "execution_count": null,
      "metadata": {
        "id": "CLVMtPwvwoEo"
      },
      "outputs": [],
      "source": [
        "def getKeywords(customer_id):\n",
        "  query = \"\"\"SELECT\n",
        "    customer.id,\n",
        "    customer.descriptive_name,\n",
        "    campaign.id,\n",
        "    campaign.name,\n",
        "    ad_group.id,\n",
        "    ad_group.name,\n",
        "    ad_group_criterion.keyword.text as keyword,\n",
        "    metrics.clicks,\n",
        "    metrics.conversions,\n",
        "    metrics.cost_micros\n",
        "  FROM keyword_view\n",
        "  WHERE ad_group.type = SEARCH_STANDARD\n",
        "    AND campaign.status = ENABLED\n",
        "    AND ad_group_criterion.status = ENABLED\n",
        "    AND metrics.clicks > 0\n",
        "    \"\"\"\n",
        "  report = report_fetcher.fetch(query, customer_id)\n",
        "  return report\n",
        "\n",
        "\n",
        "customer_ids = report_fetcher.expand_mcc(str(MCC_ID))\n",
        "customers = {}\n",
        "for customer_id in customer_ids:\n",
        "  report = getKeywords(customer_id)\n",
        "  if report:\n",
        "    customers[customer_id] = report\n",
        "print('Customers with adgroups having keywords with non-zero clicks:')\n",
        "rich.print(list(customers.keys()))\n",
        "print()\n",
        "\n",
        "for customer_id in customers.keys():\n",
        "  report = customers[customer_id]\n",
        "  print('Customer:', customer_id)\n",
        "  print(report.to_list())\n",
        "  campaigns = {}\n",
        "  adgroups = {}\n",
        "  keywords = {}\n",
        "  for row in report:\n",
        "    campaigns[row['campaign_id']] = row['campaign_name']\n",
        "    adgroups[row['ad_group_id']] = row['ad_group_name']\n",
        "    keywords[row['keyword']] = row['metrics_clicks']\n",
        "  print('Campaigns:')\n",
        "  rich.print(campaigns)\n",
        "  print('AdGroups:')\n",
        "  rich.print(adgroups)\n",
        "  print()\n"
      ]
    },
    {
      "cell_type": "markdown",
      "source": [
        "Please enter either a campaign id or a adgroup id."
      ],
      "metadata": {
        "id": "Bt2fWKsWxnFM"
      }
    },
    {
      "cell_type": "code",
      "source": [
        "# @title Parameters\n",
        "CAMPAIGN_ID = \"\" # @param {type:\"string\"}\n",
        "AD_GROUP_ID = \"121105014899; 74997665417 \" # @param {type:\"string\"}\n",
        "\n"
      ],
      "metadata": {
        "id": "MT-m7LYpvXxW"
      },
      "execution_count": null,
      "outputs": []
    },
    {
      "cell_type": "code",
      "source": [
        "if not CAMPAIGN_ID and not AD_GROUP_ID:\n",
        "  raise Exception('Please enter either a campaign id or a adgroup id.')\n",
        "CAMPAIGN_ID_LIST = [id.strip() for id in CAMPAIGN_ID.split(';')]\n",
        "AD_GROUP_ID_LIST = [id.strip() for id in AD_GROUP_ID.split(';')]\n",
        "keywords = []\n",
        "for customer_id in customers.keys():\n",
        "  report = customers[customer_id]\n",
        "  for row in report:\n",
        "    if CAMPAIGN_ID:\n",
        "      if str(row['campaign_id']) in CAMPAIGN_ID_LIST:\n",
        "        #rich.print(row['keyword'])\n",
        "        keywords.append(row['keyword'])\n",
        "    elif AD_GROUP_ID:\n",
        "      if str(row['ad_group_id']) in AD_GROUP_ID_LIST:\n",
        "        #rich.print(row['keyword'])\n",
        "        keywords.append(row['keyword'])\n",
        "print(f'Keywords for {\"Campaign \" + CAMPAIGN_ID if CAMPAIGN_ID else \"AdGroup \" + AD_GROUP_ID} ')\n",
        "rich.print(keywords)\n"
      ],
      "metadata": {
        "id": "vuSjpWLPxve9"
      },
      "execution_count": null,
      "outputs": []
    },
    {
      "cell_type": "markdown",
      "source": [
        "# Migration\n"
      ],
      "metadata": {
        "id": "V6XWPd37guOH"
      }
    },
    {
      "cell_type": "markdown",
      "source": [
        "## Case 1: Move all keywords as themes distributed equally\n",
        "\n",
        "When to use it: initial structure of adgroups in search campaign(s) makes not much sense or you don't keep it. In this case we'll grad all keywords from all adroups in the context and split them equally by buckets of 25 and create a new PMAX AssetGroup for each of them."
      ],
      "metadata": {
        "id": "PN57aKxNABOr"
      }
    },
    {
      "cell_type": "code",
      "source": [
        "from uuid import uuid4\n",
        "from google.ads.googleads.errors import GoogleAdsException\n",
        "\n",
        "logging.getLogger('google.ads.googleads.client').setLevel(level=logging.WARN)\n",
        "\n",
        "def fetch_asset_group_audience(customer_id, asset_group_id):\n",
        "  query = f\"\"\"SELECT\n",
        "    asset_group_signal.audience.audience as audience\n",
        "  FROM asset_group_signal\n",
        "  WHERE asset_group.id = {asset_group_id}\n",
        "  \"\"\"\n",
        "  report = report_fetcher.fetch(query, customer_id)\n",
        "  values = report.to_list()\n",
        "  audiences = [val for val in values if val]\n",
        "  print('audience:', audiences)\n",
        "  return audiences[0] if audiences else None\n",
        "\n",
        "\n",
        "def clone_asset_group(customer_id, campaign_id, asset_group_id):\n",
        "  \"\"\"clone AssetGroup with id = ASSET_GROUP_ID\"\"\"\n",
        "  query = f\"\"\"SELECT\n",
        "    asset_group.id,\n",
        "    asset_group.final_mobile_urls,\n",
        "    asset_group.final_urls,\n",
        "    asset_group.name,\n",
        "    asset_group.path1,\n",
        "    asset_group.path2,\n",
        "    asset_group_asset.field_type as field_type,\n",
        "    asset.id,\n",
        "    asset.resource_name,\n",
        "  FROM asset_group_asset\n",
        "  WHERE asset_group.id = {asset_group_id}\n",
        "    AND asset_group_asset.status = ENABLED\n",
        "    \"\"\"\n",
        "  # NOTE: aleternately we can use `asset_group_asset.primary_status = ELIGIBLE`\n",
        "  report = report_fetcher.fetch(query, customer_id)\n",
        "  #rich.print(report.to_list())\n",
        "\n",
        "  campaign_service = client.client.get_service(\"CampaignService\")\n",
        "  asset_service = client.client.get_service(\"AssetService\")\n",
        "  asset_group_service = client.client.get_service(\"AssetGroupService\")\n",
        "  asset_group_resource_name = asset_group_service.asset_group_path(\n",
        "      customer_id,\n",
        "      \"-1\",\n",
        "  )\n",
        "  operations = []\n",
        "\n",
        "  # Create the AssetGroup\n",
        "  mutate_operation = client.client.get_type(\"MutateOperation\")\n",
        "  asset_group = mutate_operation.asset_group_operation.create\n",
        "  asset_group.name = f\"PMax-Themer auto-created asset group #{uuid4()}\"\n",
        "  asset_group.campaign = campaign_service.campaign_path(\n",
        "      customer_id, campaign_id\n",
        "  )\n",
        "\n",
        "  urls = report.to_dict(key_column='asset_group_id', value_column='asset_group_final_urls', value_column_output='list')[int(asset_group_id)]\n",
        "  urls = [item for sublist in urls for item in sublist][1:]\n",
        "  asset_group.final_urls.append(urls[0])\n",
        "  urls = report.to_dict(key_column='asset_group_id', value_column='asset_group_final_mobile_urls', value_column_output='list')[int(asset_group_id)]\n",
        "  urls = [item for sublist in urls for item in sublist][1:]\n",
        "  if urls:\n",
        "    asset_group.final_mobile_urls.append(urls[0])\n",
        "  asset_group.status = client.client.enums.AssetGroupStatusEnum.PAUSED\n",
        "  asset_group.resource_name = asset_group_resource_name\n",
        "  operations.append(mutate_operation)\n",
        "\n",
        "  # if the source AssetGroup has an Audience, reuse it in the new AssetGroup\n",
        "  audience_resource = fetch_asset_group_audience(customer_id, asset_group_id)\n",
        "  if audience_resource:\n",
        "    mutate_operation = client.client.get_type(\"MutateOperation\")\n",
        "    operation = mutate_operation.asset_group_signal_operation.create\n",
        "    operation.asset_group = asset_group_resource_name\n",
        "    operation.audience.audience = audience_resource\n",
        "    operations.append(mutate_operation)\n",
        "\n",
        "  # copy all assets\n",
        "  for row in report:\n",
        "    # Create an AssetGroupAsset to link the Asset to the AssetGroup.\n",
        "    mutate_operation = client.client.get_type(\"MutateOperation\")\n",
        "    asset_group_asset = mutate_operation.asset_group_asset_operation.create\n",
        "    asset_group_asset.field_type = row['field_type'] #client.client.enums.AssetFieldTypeEnum.\n",
        "    asset_group_asset.asset_group = asset_group.resource_name\n",
        "    asset_group_asset.asset = row['asset_resource_name']\n",
        "    operations.append(mutate_operation)\n",
        "\n",
        "  logging.debug(operations)\n",
        "\n",
        "  # creating a new asset_group with asset_group_asset per each asset in the source asset_group\n",
        "  googleads_service = client.client.get_service(\"GoogleAdsService\")\n",
        "  response = googleads_service.mutate(\n",
        "      customer_id=customer_id, mutate_operations=operations,\n",
        "  )\n",
        "  logging.debug(response)\n",
        "  # Extract the new AssetGroup's resource_name and return\n",
        "  # mutate_operation_responses {\n",
        "  #   asset_group_result {\n",
        "  #     resource_name: \"customers/xxxx/assetGroups/yyy\"\n",
        "  #   }\n",
        "  # }\n",
        "  #\n",
        "  #if response.partial_failure_error:\n",
        "\n",
        "  for result in response.mutate_operation_responses:\n",
        "      if result._pb.HasField(\"asset_group_result\"):\n",
        "        logging.info(f'Created AssetGroup in campaing {campaign_id} with name=\"{asset_group.name}\", resource_name={result.asset_group_result.resource_name}')\n",
        "        return result.asset_group_result.resource_name\n",
        "\n",
        "  raise Exception('Could not find asset_group_result in mutate response')\n",
        "\n",
        "\n",
        "def create_assetgroups_with_signals(keywords):\n",
        "  chunk_size = 25\n",
        "  idx = 0\n",
        "  asset_group_resource_name = ''\n",
        "  created_ag = []\n",
        "  while idx < len(keywords):\n",
        "    # Extract a chunk of keywords\n",
        "    search_theme_chunk = keywords[idx: idx + chunk_size]\n",
        "    # create a clone of AssetGroup as a container for new search themes (we don't except a failure here)\n",
        "    if not asset_group_resource_name:\n",
        "      asset_group_resource_name = clone_asset_group(pmax_customer_id, pmax_campaign_id, ASSET_GROUP_ID)\n",
        "    else:\n",
        "      print('Reusing the AssetGroup {asset_group_resource_name}')\n",
        "    mutate_operations = []\n",
        "    print(f'Creating search themes for the AssetGroup {asset_group_resource_name} with {len(search_theme_chunk)} keywords:\\n', search_theme_chunk)\n",
        "    for search_theme in search_theme_chunk:\n",
        "      mutate_operation = client.client.get_type(\"MutateOperation\")\n",
        "      operation = mutate_operation.asset_group_signal_operation.create\n",
        "      operation.asset_group = asset_group_resource_name\n",
        "      operation.search_theme.text = search_theme\n",
        "      mutate_operations.append(mutate_operation)\n",
        "\n",
        "    #logging.debug(mutate_operations)\n",
        "    request = client.client.get_type(\"MutateGoogleAdsRequest\")\n",
        "    request.customer_id = str(pmax_customer_id)\n",
        "    request.mutate_operations = mutate_operations\n",
        "    #request.partial_failure = True\n",
        "    banned_themese = []\n",
        "    try:\n",
        "      response = client.ads_service.mutate(request)\n",
        "      # Move to the next chunk if the API call is successful\n",
        "      idx += chunk_size\n",
        "      created_ag.append(asset_group_resource_name)\n",
        "      asset_group_resource_name = ''\n",
        "      logging.debug(response)\n",
        "      print('AssetGroup successfully updated with search themes')\n",
        "    except GoogleAdsException as ex:\n",
        "      # If API call is not successful, remove the banned keywords received in the response\\\n",
        "      # NOTE: we'll reuse the created AssetGroup (asset_group_resource_name)\n",
        "      for error in ex.failure.errors:\n",
        "        print(f'\\tError with message \"{error.message}\".')\n",
        "        #if error.location:\n",
        "        #  for field_path_element in error.location.field_path_elements:\n",
        "        #    print(f\"\\t\\tOn field: {field_path_element.field_name}\")\n",
        "        if error.error_code.asset_group_signal_error == 3:  # SEARCH_THEME_POLICY_VIOLATION\n",
        "          banned_themese.append(error.trigger.string_value)\n",
        "          try:\n",
        "            print(f'Search theme \"{error.trigger.string_value}\" was banned by policy \"{error.details.policy_violation_details.key.policy_name}\" (violating: \"{error.details.policy_violation_details.key.violating_text}\")')\n",
        "          except BaseException as e:\n",
        "            print('WARNING: failed to print policy violation: ', e)\n",
        "      if len(banned_themese) > 0:\n",
        "        print(\"The following keywords have been banned by policy check and were not uploaded as search themes:\\n\", banned_themese)\n",
        "        # removing banned keywords from the list\n",
        "        keywords = list(filter(lambda k: k not in banned_themese, keywords))\n",
        "      else:\n",
        "        print(f'WARNING: Unknow error, mutate operation with AsseetGroup and signals (themese) failed but not because of banned themse (or we failed to parse the result). Original error is following')\n",
        "        print(ex)\n",
        "  return created_ag\n",
        "\n",
        "# deduplicate keywords\n",
        "keywords = list(set(keywords))\n",
        "print(f'Creating PMax search themes for {len(keywords)} keywords')\n",
        "created_ag = create_assetgroups_with_signals(keywords)\n",
        "print(f'Done. Created {len(created_ag)} Asset Groups')\n",
        "rich.print(created_ag)\n"
      ],
      "metadata": {
        "id": "6xmNMzfp4DPw"
      },
      "execution_count": null,
      "outputs": []
    },
    {
      "cell_type": "markdown",
      "source": [
        "## Case 2: Move keywords with structure of adgroups\n",
        "\n",
        "When to use it: initial structure of adgroups in search campaign(s) is important and we want to keep it."
      ],
      "metadata": {
        "id": "jvU_ih7bAGXn"
      }
    },
    {
      "cell_type": "code",
      "source": [
        "from uuid import uuid4\n",
        "from google.ads.googleads.errors import GoogleAdsException"
      ],
      "metadata": {
        "id": "Yo37GQAOFO3p"
      },
      "execution_count": null,
      "outputs": []
    }
  ]
}